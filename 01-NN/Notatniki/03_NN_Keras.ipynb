{
 "cells": [
  {
   "cell_type": "markdown",
   "metadata": {},
   "source": [
    "## Notebook 3: Wprowadzenie do Kerasa\n",
    "***\n",
    "Notebook ten zawiera ćwiczenia, które pozwolą zapoznać Ci się\n",
    "z frameworkiem Keras oraz nauczyć Cię pisania i trenowania w nim sieci.  \n",
    "Zapewne szybko docenisz jego prostotę i łatwość tworzenia modeli.\n"
   ]
  },
  {
   "cell_type": "code",
   "execution_count": null,
   "metadata": {},
   "outputs": [],
   "source": [
    "import numpy as np\n",
    "from sklearn.datasets import load_digits"
   ]
  },
  {
   "cell_type": "code",
   "execution_count": null,
   "metadata": {},
   "outputs": [],
   "source": [
    "import keras\n",
    "from keras.models import Sequential\n",
    "from keras.layers import Dense, Dropout, Activation\n",
    "from keras.optimizers import SGD, Adam\n",
    "from keras.utils import to_categorical\n",
    "from keras.utils import print_summary, plot_model"
   ]
  },
  {
   "cell_type": "markdown",
   "metadata": {},
   "source": [
    "## 1. Keras Sequential API\n",
    "***\n",
    "Na początek przećwiczymy podstawy Sequential API - najprostszego z interfejsów  jakie posiada Keras,\n",
    "niemniej pozwaljącego stworzyć znakomitą większość używanych architektur sieci.\n",
    "Wykorzystamy zbiór, dobrze znany Ci już z pierwszych dwóch notebooków, by stworzyć prostą sieć neurnonową z jedną warstwą ukrytą."
   ]
  },
  {
   "cell_type": "markdown",
   "metadata": {},
   "source": [
    "##### Przygotowanie danych"
   ]
  },
  {
   "cell_type": "code",
   "execution_count": null,
   "metadata": {},
   "outputs": [],
   "source": [
    "\n",
    "X,y = load_digits(n_class=10, return_X_y=True)\n",
    "\n",
    "np.random.seed(54321)\n",
    "p = np.random.permutation(len(y))\n",
    "X = X[p]\n",
    "y = y[p].reshape(-1,1)\n",
    "\n",
    "test_set_size = round(len(y) * 0.25)\n",
    "X_train = X[:-test_set_size]\n",
    "y_train = y[:-test_set_size]\n",
    "\n",
    "X_test = X[-test_set_size:]\n",
    "y_test = y[-test_set_size:]"
   ]
  },
  {
   "cell_type": "markdown",
   "metadata": {},
   "source": [
    "##### Ćwiczenie 1.1\n",
    "Zapoznaj sie z przykładem i wykorzystaj gotowy szkielet w następnej komórce do\n",
    "stworzenia sieci wg własnego pomysłu. Możesz na początek zainspirować się modelem stworzonym przez\n",
    "Ciebie wcześniej w TensorFlow."
   ]
  },
  {
   "cell_type": "code",
   "execution_count": null,
   "metadata": {},
   "outputs": [],
   "source": [
    "n_inputs = X_train.shape[1]\n",
    "n_outputs = len(np.unique(y_train))\n",
    "learning_rate = 0.01\n",
    "keep_prob = 0.5\n",
    "n_epochs = 100\n",
    "batch_size = None\n",
    "\n",
    "\n",
    "y_train_onehot = to_categorical(y_train, n_outputs)\n",
    "y_test_onehot = to_categorical(y_test, n_outputs)\n",
    "\n",
    "model = Sequential()\n",
    "model.add(Dense(50, activation='relu', input_dim=n_inputs))\n",
    "model.add(Dropout(keep_prob))\n",
    "model.add(Dense(n_outputs, activation='softmax'))\n",
    "\n",
    "optimizer = SGD(lr=learning_rate)\n",
    "\n",
    "model.compile(loss='categorical_crossentropy',\n",
    "             optimizer=optimizer,\n",
    "             metrics=['accuracy'])\n",
    "\n",
    "model.fit(X_train, y_train_onehot, epochs=n_epochs, batch_size=batch_size, verbose=0)\n",
    "\n",
    "train_accuracy = model.evaluate(X_train, y_train_onehot, batch_size=batch_size, verbose=0)\n",
    "test_accuracy = model.evaluate(X_test, y_test_onehot, batch_size=batch_size)\n",
    "print(\"Training set accuracy: \", train_accuracy[1])\n",
    "print(\"Test set accuracy: \", test_accuracy[1])"
   ]
  },
  {
   "cell_type": "code",
   "execution_count": null,
   "metadata": {},
   "outputs": [],
   "source": [
    "# Przydatna funkcja do wyświetlania architektury sieci w formie tabeli\n",
    "print_summary(model)"
   ]
  },
  {
   "cell_type": "markdown",
   "metadata": {},
   "source": [
    "##### SZKIELET TWOJEJ SIECI:"
   ]
  },
  {
   "cell_type": "code",
   "execution_count": null,
   "metadata": {},
   "outputs": [],
   "source": [
    "n_inputs = X_train.shape[1]\n",
    "n_outputs = len(np.unique(y_train))\n",
    "learning_rate = 0.01\n",
    "keep_prob = 0.5\n",
    "n_epochs = 100\n",
    "batch_size = None\n",
    "\n",
    "\n",
    "y_train_onehot = to_categorical(y_train, n_outputs)\n",
    "y_test_onehot = to_categorical(y_test, n_outputs)\n",
    "\n",
    "model = ###Miejsce na Twój kod\n",
    "        #\n",
    "        #\n",
    "        #\n",
    "        ####\n",
    "\n",
    "optimizer = ###Miejsce na Twój kod\n",
    "\n",
    "model.compile(loss='categorical_crossentropy',\n",
    "             optimizer=optimizer,\n",
    "             metrics=['accuracy'])\n",
    "\n",
    "model.fit(X_train, y_train_onehot, epochs=n_epochs, batch_size=batch_size, verbose=0)\n",
    "\n",
    "train_accuracy = model.evaluate(X_train, y_train_onehot, batch_size=batch_size, verbose=0)\n",
    "test_accuracy = model.evaluate(X_test, y_test_onehot, batch_size=batch_size)\n",
    "print(\"Training set accuracy: \", train_accuracy[1])\n",
    "print(\"Test set accuracy: \", test_accuracy[1])"
   ]
  },
  {
   "cell_type": "markdown",
   "metadata": {},
   "source": [
    "## MNIST w Keras \n",
    "***\n",
    "Na sam koniec, czas jeszcze raz podejść do zbioru MNIST.\n",
    "Tym razem jesteś w pełni samodzielny/a. \n",
    "Możesz na początek przepisać najlepszą swoją sieć z TensorFlow jako punkt wyjścia do eksperymentów.\n",
    "Śmiało posługuj sie tez kodem z poprzedniego przykładu."
   ]
  },
  {
   "cell_type": "code",
   "execution_count": null,
   "metadata": {},
   "outputs": [],
   "source": [
    "#Load mnist data\n",
    "(x_train, y_train), (x_test, y_test) = keras.datasets.mnist.load_data()\n",
    "\n",
    "#Reshape data\n",
    "mnist_reshape = lambda x: x.reshape(-1, x.shape[1] * x.shape[2])\n",
    "x_train = mnist_reshape(x_train)\n",
    "y_train = y_train.reshape(-1,1)\n",
    "x_test = mnist_reshape(x_test)\n",
    "y_test = y_test.reshape(-1,1)"
   ]
  },
  {
   "cell_type": "markdown",
   "metadata": {},
   "source": [
    "##### Ćwiczenie 1.2 \n",
    "Stwórz od początku głęboką sieć neuronową"
   ]
  },
  {
   "cell_type": "code",
   "execution_count": null,
   "metadata": {},
   "outputs": [],
   "source": [
    "###MIEJSCE NA TWOJĄ SIEĆ\n",
    "###...\n"
   ]
  }
 ],
 "metadata": {
  "kernelspec": {
   "display_name": "Python 3",
   "language": "python",
   "name": "python3"
  },
  "language_info": {
   "codemirror_mode": {
    "name": "ipython",
    "version": 3
   },
   "file_extension": ".py",
   "mimetype": "text/x-python",
   "name": "python",
   "nbconvert_exporter": "python",
   "pygments_lexer": "ipython3",
   "version": "3.6.5"
  }
 },
 "nbformat": 4,
 "nbformat_minor": 2
}
