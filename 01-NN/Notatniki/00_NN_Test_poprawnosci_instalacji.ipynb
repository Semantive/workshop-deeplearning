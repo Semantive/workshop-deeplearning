{
 "cells": [
  {
   "cell_type": "markdown",
   "metadata": {},
   "source": [
    "\n",
    "## TEST POPRAWNOŚCI INSTALACJI NIEZBĘDNYCH NARZĘDZI ##  \n",
    "***\n",
    "\n",
    "  \n",
    "Notebook ten ma za zadanie sprawdzić, czy instalacja odpowiedniej wersji Anacondy i niebędnych bibliotek: TensorFlow oraz Keras przebiegła prawidłowo.    \n",
    "  \n",
    "Jeśli wszystkie komórki poniżej wykonają się poprawnie, oznacza to, że środowisko jest przygotowane do praktycznej części szkolenia, w innym wypadku należy upewnić się, że instalacja przeprowadzona została zgodnie z instrukcją.  \n",
    "***"
   ]
  },
  {
   "cell_type": "markdown",
   "metadata": {},
   "source": [
    "###### Sprawdzenie poprawności instalacji języka Python w dystrybucji Anaconda####"
   ]
  },
  {
   "cell_type": "code",
   "execution_count": null,
   "metadata": {},
   "outputs": [],
   "source": [
    "import sys\n",
    "sys.version"
   ]
  },
  {
   "cell_type": "markdown",
   "metadata": {},
   "source": [
    "Jeśli otrzymany komunikat ma analogiczną formę jak poniższy, to Anaconda zainstalowana jest prawidłowo:  \n",
    "```'3.6.5 |Anaconda custom (64-bit)| (default, Mar 29 2018, 13:32:41) [MSC v.1900 64 bit (AMD64)]```"
   ]
  },
  {
   "cell_type": "markdown",
   "metadata": {},
   "source": [
    "###### Sprawdzenie poprawności instalacji TensorFlow"
   ]
  },
  {
   "cell_type": "code",
   "execution_count": null,
   "metadata": {},
   "outputs": [],
   "source": [
    "import tensorflow as tf"
   ]
  },
  {
   "cell_type": "code",
   "execution_count": null,
   "metadata": {},
   "outputs": [],
   "source": [
    "tf.__version__"
   ]
  },
  {
   "cell_type": "markdown",
   "metadata": {},
   "source": [
    "Sprawdzenie, czy sesja TensorFlow działa poprawnie:"
   ]
  },
  {
   "cell_type": "code",
   "execution_count": null,
   "metadata": {},
   "outputs": [],
   "source": [
    "message = tf.constant(\"TensorFlow is ready to go\")\n",
    "\n",
    "with tf.Session() as sess:\n",
    "    print(sess.run(message))"
   ]
  },
  {
   "cell_type": "markdown",
   "metadata": {},
   "source": [
    "Oczekiwany output:  \n",
    "```TensorFlow is ready to go```"
   ]
  },
  {
   "cell_type": "markdown",
   "metadata": {},
   "source": [
    "###### Sprawdzenie poprawnośći instalacji Kerasa"
   ]
  },
  {
   "cell_type": "code",
   "execution_count": null,
   "metadata": {},
   "outputs": [],
   "source": [
    "import keras"
   ]
  },
  {
   "cell_type": "code",
   "execution_count": null,
   "metadata": {},
   "outputs": [],
   "source": [
    "keras.__version__"
   ]
  },
  {
   "cell_type": "markdown",
   "metadata": {},
   "source": [
    "***\n",
    "###  KONIEC ####  \n",
    "Jeśli wszystkie komórki wykonały się pomyślnie, a wersje narzędzi zgadzają się z podanymi w instrukcji, Twoje środowisko jest gotowe do szkolenia!"
   ]
  }
 ],
 "metadata": {
  "kernelspec": {
   "display_name": "Python 3",
   "language": "python",
   "name": "python3"
  },
  "language_info": {
   "codemirror_mode": {
    "name": "ipython",
    "version": 3
   },
   "file_extension": ".py",
   "mimetype": "text/x-python",
   "name": "python",
   "nbconvert_exporter": "python",
   "pygments_lexer": "ipython3",
   "version": "3.6.5"
  }
 },
 "nbformat": 4,
 "nbformat_minor": 2
}
