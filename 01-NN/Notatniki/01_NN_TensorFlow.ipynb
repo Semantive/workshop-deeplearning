{
 "cells": [
  {
   "cell_type": "markdown",
   "metadata": {},
   "source": [
    "# Notebook nr 1: Podstawy modelowania w TensorFlow\n",
    "***\n",
    "Notebook zawiera ćwiczenia pozwalające na zapozananie się ze środowiskiem \n",
    "TensorFlow i schematem postępowania przy tworzeniu modeli uczenia maszynowego."
   ]
  },
  {
   "cell_type": "code",
   "execution_count": null,
   "metadata": {},
   "outputs": [],
   "source": [
    "import tensorflow as tf\n",
    "import numpy as np"
   ]
  },
  {
   "cell_type": "markdown",
   "metadata": {},
   "source": [
    "## 1. Grafy i ich wykonywanie"
   ]
  },
  {
   "cell_type": "markdown",
   "metadata": {},
   "source": [
    "##### Przykład 1.1\n",
    "Stworzenie grafu, a następnie jego wykonanie w sesji\n"
   ]
  },
  {
   "cell_type": "code",
   "execution_count": null,
   "metadata": {},
   "outputs": [],
   "source": [
    "tf.reset_default_graph()\n",
    "hello = tf.constant(\"Hello, world!\")\n",
    "\n",
    "with tf.Session() as sess:    \n",
    "    print(sess.run(hello))"
   ]
  },
  {
   "cell_type": "markdown",
   "metadata": {},
   "source": [
    "###### Ćwiczenie 1.1\n",
    "\n",
    "Utwórz sesje, wykonaj w niej operację c.\n"
   ]
  },
  {
   "cell_type": "code",
   "execution_count": null,
   "metadata": {},
   "outputs": [],
   "source": [
    "tf.reset_default_graph()\n",
    "a = tf.constant(1)\n",
    "b = tf.constant(2)\n",
    "c = tf.add(a,b)\n",
    "\n",
    "### MIEJSCE NA TWÓJ KOD:\n",
    "\n",
    "    \n",
    "####"
   ]
  },
  {
   "cell_type": "markdown",
   "metadata": {},
   "source": [
    "Poprawny rezultat:\n",
    "```\n",
    "3\n",
    "```"
   ]
  },
  {
   "cell_type": "markdown",
   "metadata": {},
   "source": [
    "## 2. Tensory i Operacje  "
   ]
  },
  {
   "cell_type": "markdown",
   "metadata": {},
   "source": [
    "### 2.1 tf.constant()"
   ]
  },
  {
   "cell_type": "markdown",
   "metadata": {},
   "source": [
    "###### Przykład 2.1\n",
    "tworzenie stałych w TensorFlow:\n",
    "\n",
    "```python\n",
    "x = tf.constant(3.14, dtype=tf.float32, name=\"x\")\n",
    "y = tf.constant(9, dtype=tf.int32, name=\"y\")\n",
    "```\n",
    "stałe mogą być również wielowymiarowe:\n",
    "\n",
    "```python\n",
    "matrix = tf.constant([[1,3],[2,4]], name=\"matrix\")\n",
    "```\n",
    "Aby uwtorzyć stałe składające sie z samych zer należy użyć  \n",
    "funkcji tf.zero()\n",
    "```python\n",
    "zero_matrix = tf.zeros((2,3), dtype=tf.float32, name=\"zero_matrix\")\n",
    "```\n",
    "otrzymamy wtedy:\n",
    "```\n",
    "[[0. 0. 0.]\n",
    " [0. 0. 0.]]\n",
    "```\n",
    "Analogiczne można utworzyć tensor składający się z samych jednynek\n",
    "```python\n",
    "ones_matrix = tf.ones((1,4), dtype=tf.float32, name=\"ones_matrix\")\n",
    "```\n",
    "otrzymamy wtedy:\n",
    "```\n",
    "[[1. 1. 1. 1.]]\n",
    "```"
   ]
  },
  {
   "cell_type": "markdown",
   "metadata": {},
   "source": [
    "##### Ćwiczenie 2.1:\n",
    "* Utwórz stałą a: macierz o wymiarach 3x3 przyjmującą kolejno wartośći od 1 do 9, typ danych tf.int32, nazwa: \"a\"  \n",
    "* Uwtórz stałą b: macierz jedynek o wymiarach 3x3, typ danych tf.int32, nazwa \"b\"\n",
    "* Utwórz stałą c: jako wynik dodawania stałych a i b, analogicznie jak w poprzednim przykładzie\n",
    "* Uwtórz sesje i wyświel wartość stałej c"
   ]
  },
  {
   "cell_type": "code",
   "execution_count": null,
   "metadata": {},
   "outputs": [],
   "source": [
    "tf.reset_default_graph()\n",
    "# ZADANIE: Utwórz stałe a,b,c\n",
    "#### Miejsce na Twój kod:\n",
    "a = # \n",
    "b = #\n",
    "c = # \n",
    "####\n",
    "\n",
    "#ZADANIE: Stwórz sesje i wyświetl wartość stałej c\n",
    "#### Miejsce na Twój kod:\n",
    "\n",
    "####\n",
    "\n"
   ]
  },
  {
   "cell_type": "markdown",
   "metadata": {},
   "source": [
    "Poprawny wynik:\n",
    "```\n",
    "[[ 2  3  4]\n",
    " [ 5  6  7]\n",
    " [ 8  9 10]]\n",
    " ```"
   ]
  },
  {
   "cell_type": "markdown",
   "metadata": {},
   "source": [
    "### 2.2 Operacje matematyczne"
   ]
  },
  {
   "cell_type": "markdown",
   "metadata": {},
   "source": [
    "##### Przykład 2.2\n",
    "\n",
    "Operacje elementarne:\n",
    "\n",
    "```python\n",
    "x = tf.constant([[1,2],[3,4]], dtype=tf.float32)\n",
    "y = tf.constant([[5,6],[7,8]], dtype=tf.float32)\n",
    "\n",
    "#operacje elementarne\n",
    "#dodawanie\n",
    "z_add = tf.add(x, y)\n",
    "# lub\n",
    "z_add = x + y\n",
    "\n",
    "#odejmowanie\n",
    "z_sub = tf.subtract(x,y)\n",
    "# lub\n",
    "z_sub = x - y\n",
    "\n",
    "#mnożenie\n",
    "z_mult = tf.multiply(x, y)\n",
    "# lub\n",
    "z_mult = x * y\n",
    "\n",
    "#dzielenie\n",
    "z_div = tf.div(x,y) # podstawowy z wielu sposobów dzielenia tensorów\n",
    "# lub\n",
    "z_div = x / y\n",
    "\n",
    "#Operacje na macierzach\n",
    "#mnożenie macierzy\n",
    "z_dot = tf.matmul(x,y)\n",
    "\n",
    "#macierz odwrotna\n",
    "x_inv = tf.matrix_inverse(x)\n",
    "\n",
    "#macierz transponowana\n",
    "x_tr = tf.transpose(x)\n",
    "\n",
    "```"
   ]
  },
  {
   "cell_type": "markdown",
   "metadata": {},
   "source": [
    "###### Ćwiczenie 2.2\n",
    "Utwórz stałe z macierzy a i b, w sesji dokonaj transpozycji macierzy x, a następnie wykonaj mnożenie macierzy x i y, wyświetl wynik"
   ]
  },
  {
   "cell_type": "code",
   "execution_count": null,
   "metadata": {},
   "outputs": [],
   "source": [
    "tf.reset_default_graph()\n",
    "a = [[1,2],[5,3]]\n",
    "b = [[1],[2]]\n",
    "\n",
    "###ZADANIE\n",
    "x = #Miejsce na Twój kod\n",
    "y = #MIejsce na Twój kod\n",
    "\n",
    "with tf.Session() as sess:\n",
    "    ###Miejsce na Twój kod"
   ]
  },
  {
   "cell_type": "markdown",
   "metadata": {},
   "source": [
    "Prawidłowy wynik:\n",
    "````\n",
    "[[11]\n",
    " [ 8]]\n",
    " ```"
   ]
  },
  {
   "cell_type": "markdown",
   "metadata": {},
   "source": [
    "### 2.3 tf.Variable()"
   ]
  },
  {
   "cell_type": "markdown",
   "metadata": {},
   "source": [
    "##### Przykład 2.3\n",
    "tworzenie zmiennej:  \n",
    "    Sposób I: \n",
    "  ```python    \n",
    "    x = tf.Variable(3, dtype=tf.int32, name=\"x\") \n",
    "  ```\n",
    "  Sposób II:\n",
    "    \n",
    "  ```python\n",
    "    x = tf.get_variable(name='x', initializer=tf.constant(4))\n",
    "  ```\n",
    "  \n",
    "Inicjalizacja:  \n",
    "      wszystkich zmiennych\n",
    "  ```python\n",
    "    sess.run(tf.global_variables_initializer())\n",
    "   \n",
    "  ```  \n",
    "   pojedyńczej zmiennej:\n",
    "   ```python\n",
    "    x.initializer\n",
    "    ```\n",
    "   obliczenie wartości:\n",
    "   ```python\n",
    "    x.eval()\n",
    "    ```\n",
    "   Przypisanie nowej wartości:    \n",
    "   ```python\n",
    "     x = tf.assign(x,13) \n",
    "    ```\n",
    "   efekt: x = 13  "
   ]
  },
  {
   "cell_type": "markdown",
   "metadata": {},
   "source": [
    "##### Ćwiczenie 2.3\n",
    "Stwórz zmienne:\n",
    "* x (I Sposób, wartość 3 typ tf.int32)\n",
    "* y (II sposób, nazwa 'y' typ tf.int32, initalizer tf.constant wartoś 4)    \n",
    "  \n",
    "W sesji zainicjuj obie zmienne i wyświetl je kolejno na ekranie"
   ]
  },
  {
   "cell_type": "code",
   "execution_count": null,
   "metadata": {},
   "outputs": [],
   "source": [
    "tf.reset_default_graph()\n",
    "x = ###Miejsce na Twój kod \n",
    "y = ###Miejsce na Twój kod\n",
    "\n",
    "with tf.Session() as sess:\n",
    "    ###Miejsce na Twój kod\n",
    "    \n",
    "    ###"
   ]
  },
  {
   "cell_type": "markdown",
   "metadata": {},
   "source": [
    "Prawidłowy wynik:  \n",
    "```\n",
    "3\n",
    "4\n",
    "```"
   ]
  },
  {
   "cell_type": "markdown",
   "metadata": {},
   "source": [
    "### 2.4 tf.Placeholder()"
   ]
  },
  {
   "cell_type": "markdown",
   "metadata": {},
   "source": [
    "###### Przykład 2.4\n",
    "Dostarczanie wartości do placeholdera w trakcie wykonywania sesji\n",
    "```python\n",
    "a = tf.placeholder(dtype=tf.float32)\n",
    "b = tf.placeholder(dtype=tf.float32)\n",
    "c = tf.add(a,b) \n",
    "\n",
    "with tf.Session() as sess:\n",
    "    print(sess.run(c, feed_dict={a:8.2, b:9.1}))\n",
    "```\n",
    "17.3"
   ]
  },
  {
   "cell_type": "markdown",
   "metadata": {},
   "source": [
    "###### Ćwiczenie 2.4.1"
   ]
  },
  {
   "cell_type": "code",
   "execution_count": null,
   "metadata": {},
   "outputs": [],
   "source": [
    "x = tf.get_variable"
   ]
  },
  {
   "cell_type": "markdown",
   "metadata": {},
   "source": [
    "## 2. Pierwszy model - binarna regresja logistyczna  \n",
    "***\n",
    "Do pierwszego modelu jaki stworzymy - modelu klasyfikacji binarnej - użyjemy zbioru obrazów ręcznie pisanych cyfr o wymiarach 8x8 pikseli.\n",
    "Zbiór ten jest podzbiorem zbioru dostępnego pod tym [linkiem](\"http://archive.ics.uci.edu/ml/datasets/Optical+Recognition+of+Handwritten+Digits  \n",
    "Do binarnego modelu ze zbioru danych wydzielimy tylko dwie cyfry - 0 i 1, nauczymy model odróżniać je od siebie.\n",
    "\n",
    "Wykonamy następujące kroki:\n",
    "\n",
    "* Załadujemy zbior i wydzielimy podzbiory treningowego i testowy\n",
    "* Stworzymy graf modelu regresji logistycznej\n",
    "* Przećwiczymy model\n",
    "* Przeanalizujemy rezultaty"
   ]
  },
  {
   "cell_type": "markdown",
   "metadata": {},
   "source": [
    "Zbiór dostępny jest w pakiecie SciKit learn.\n",
    "Po zaimportowaniu go (fragmentu z 2 cyframi), mieszamy kolejnośc obserwacji  \n",
    "a następnie wydzielamy zbiór treningowy i testowy."
   ]
  },
  {
   "cell_type": "code",
   "execution_count": null,
   "metadata": {},
   "outputs": [],
   "source": [
    "import numpy as np\n",
    "from sklearn.datasets import load_digits\n",
    "\n",
    "X,y = load_digits(n_class=2, return_X_y=True)\n",
    "\n",
    "\n",
    "# Przemieszanie zbiorów\n",
    "np.random.seed(54321)\n",
    "p = np.random.permutation(len(y))\n",
    "X = X[p]\n",
    "y = y[p].reshape(-1,1)\n",
    "\n",
    "# Jaką część zbioru stanowić ma zbiór testowy?\n",
    "test_set_percentage = 0.2\n",
    "\n",
    "# Podział na zbiory treningowy i testowy\n",
    "test_set_size = round(len(y) * 0.20)\n",
    "X_train = X[:-test_set_size]\n",
    "y_train = y[:-test_set_size]\n",
    "\n",
    "X_test = X[-test_set_size:]\n",
    "y_test = y[-test_set_size:]\n",
    "\n",
    "print(\"X dims:\", X_train.shape)\n",
    "print(\"y dims:\", y_train.shape)"
   ]
  },
  {
   "cell_type": "markdown",
   "metadata": {},
   "source": [
    "### Modelowanie"
   ]
  },
  {
   "cell_type": "markdown",
   "metadata": {},
   "source": [
    "##### Ćwiczenie 3.1\n",
    "Uwtórz placeholdery do wprowadzenia danych treningowych do modelu  \n",
    "* X_input typu tf.float32, o rozmiarze None x n_inputs, name = 'X_input'  \n",
    "* y_target typu tf.float32, o rozmiarze None x 1, name = 'y_target'"
   ]
  },
  {
   "cell_type": "code",
   "execution_count": null,
   "metadata": {},
   "outputs": [],
   "source": [
    "# resetujemy graf\n",
    "tf.reset_default_graph()\n",
    "\n",
    "# liczba zmiennych wchodzących do modelu\n",
    "n_inputs = X_train.shape[1]\n",
    "\n",
    "# ZADANIE: uwtórz placeholdery dla X_input i y_target\n",
    "X_input = ### Miejsce na Twój kod \n",
    "y_target = ### Miejsce na Twój kod"
   ]
  },
  {
   "cell_type": "markdown",
   "metadata": {},
   "source": [
    "##### Ćwiczenie 3.2\n",
    "Zainicjalizuj losowo zmienne wektorów wag\n",
    "użyj funkcji tf.get_variable\n",
    "jako initalizer w przypadku wag W nazwij zmienną 'Weights' i użyj tf.random_normal o odpowiednich wymiarach\n",
    "wyraz wolny nazwij Bias i jako initializera użyj tf.zeros(1,1)"
   ]
  },
  {
   "cell_type": "code",
   "execution_count": null,
   "metadata": {},
   "outputs": [],
   "source": [
    "#ZADANIE zainicjalizuj wagi\n",
    "W = tf.get_variable(name=####, dtype=tf.float32, initializer=tf.random_normal((##,##), mean=0.0, stddev=0.1, seed=54321))\n",
    "b = tf.get_variable(name=####, initializer=###)\n",
    "                "
   ]
  },
  {
   "cell_type": "markdown",
   "metadata": {},
   "source": [
    "##### Ćwiczenie 3.4\n",
    "Stwórz model wg wzoru $y = X * W + b$"
   ]
  },
  {
   "cell_type": "code",
   "execution_count": null,
   "metadata": {},
   "outputs": [],
   "source": [
    "# ZADANIE: Utwórz model\n",
    "model = ### Miejsce na Twój kod\n",
    "\n",
    "#funkcja sigmoidalna\n",
    "y_pred = tf.nn.sigmoid(model)"
   ]
  },
  {
   "cell_type": "markdown",
   "metadata": {},
   "source": [
    "###### Ćwiczenie 3.4\n",
    "użyj tf.nn.sigmoid_cross_entropy_with_logits(), (gdzie parametr logits to model a parametr labels to zmienna celu) by obliczyć bład dla każdego przypadku, a następnie użyj tf.reduce_mean() by obliczyć średnią błędów."
   ]
  },
  {
   "cell_type": "code",
   "execution_count": null,
   "metadata": {},
   "outputs": [],
   "source": [
    "#ZADANIE: funkcja straty\n",
    "loss = ###Miejsce na Twój kod"
   ]
  },
  {
   "cell_type": "code",
   "execution_count": null,
   "metadata": {},
   "outputs": [],
   "source": [
    "#optymalizacja\n",
    "optimizer = tf.train.GradientDescentOptimizer(learning_rate=0.01).minimize(loss)"
   ]
  },
  {
   "cell_type": "markdown",
   "metadata": {},
   "source": [
    "##### Ćwiczenie 3.5\n",
    "W sesji uwtórz pętle for, która wykona się zadaną liczbę epok (n_epochs). Podczas każdej iteracji\n",
    "powinien zostać wykonany 'optimizer'. Do grafu powinnny zostać wprowadzone (feed_dict) w odpowiedni sposób dane treningowe."
   ]
  },
  {
   "cell_type": "code",
   "execution_count": null,
   "metadata": {},
   "outputs": [],
   "source": [
    "#trening\n",
    "init = tf.global_variables_initializer()\n",
    "n_epochs = 100\n",
    "\n",
    "with tf.Session() as sess:\n",
    "    sess.run(init)\n",
    "    \n",
    "    ###ZADANIE: Pętla for i wykonanie optimizera podczas każdej iteracji\n",
    "    ### Miejsce na Twój kod\n",
    "    \n",
    "    \n",
    "    ####\n",
    "    \n",
    "    #ewaluacja\n",
    "    threshold = 0.5\n",
    "    predictions = tf.to_float(tf.greater(y_pred, threshold))\n",
    "    accuracy = tf.reduce_mean(tf.to_float(tf.equal(y_target, predictions)))\n",
    "    \n",
    "    print(\"Training set accuracy: \", accuracy.eval({X_input: X_train, y_target: y_train}))\n",
    "    print(\"Test set accuracy: \", accuracy.eval({X_input: X_test, y_target: y_test}))"
   ]
  }
 ],
 "metadata": {
  "kernelspec": {
   "display_name": "Python 3",
   "language": "python",
   "name": "python3"
  },
  "language_info": {
   "codemirror_mode": {
    "name": "ipython",
    "version": 3
   },
   "file_extension": ".py",
   "mimetype": "text/x-python",
   "name": "python",
   "nbconvert_exporter": "python",
   "pygments_lexer": "ipython3",
   "version": "3.6.5"
  }
 },
 "nbformat": 4,
 "nbformat_minor": 2
}
